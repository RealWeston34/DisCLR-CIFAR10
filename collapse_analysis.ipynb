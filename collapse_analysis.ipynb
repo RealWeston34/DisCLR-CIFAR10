{
 "cells": [
  {
   "cell_type": "code",
   "execution_count": 1,
   "metadata": {},
   "outputs": [],
   "source": [
    "import os\n",
    "import re\n",
    "import torch\n",
    "import numpy as np\n",
    "import matplotlib.pyplot as plt\n",
    "from prettytable import PrettyTable"
   ]
  },
  {
   "cell_type": "code",
   "execution_count": 2,
   "metadata": {},
   "outputs": [],
   "source": [
    "def compute_auc(singular_values):\n",
    "    d = len(singular_values)\n",
    "    cumsum = np.cumsum(singular_values)\n",
    "    numerator = np.sum(cumsum) / d\n",
    "    denominator = np.sum(singular_values)\n",
    "    auc = numerator / denominator\n",
    "    return auc"
   ]
  },
  {
   "cell_type": "code",
   "execution_count": 3,
   "metadata": {},
   "outputs": [],
   "source": [
    "svd_dir = 'data/resnet18_exp0001/cifar10/svd'\n",
    "dimension_sizes = []\n",
    "auc_values = []\n",
    "\n",
    "for filename in os.listdir(svd_dir):\n",
    "    if filename.endswith('.pt'):\n",
    "        data = torch.load(os.path.join(svd_dir, filename))\n",
    "        singular_values = data['stds'].numpy()\n",
    "        auc = compute_auc(singular_values)\n",
    "        match = re.search(r\"train_reprs_e0_(\\d+)_svd.pt\", filename)\n",
    "        if match:\n",
    "            dimension_size = int(match.group(1))\n",
    "            dimension_sizes.append(dimension_size)\n",
    "            auc_values.append(auc)\n",
    "\n",
    "# sort\n",
    "dimension_sizes = np.array(dimension_sizes)\n",
    "auc_values = np.array(auc_values)\n",
    "sorted_indices = np.argsort(dimension_sizes)\n",
    "dimension_sizes = dimension_sizes[sorted_indices]\n",
    "auc_values = auc_values[sorted_indices]"
   ]
  },
  {
   "cell_type": "code",
   "execution_count": 4,
   "metadata": {},
   "outputs": [
    {
     "name": "stderr",
     "output_type": "stream",
     "text": [
      "/tmp/ipykernel_3025578/1923906357.py:2: MatplotlibDeprecationWarning: The seaborn styles shipped by Matplotlib are deprecated since 3.6, as they no longer correspond to the styles shipped by seaborn. However, they will remain available as 'seaborn-v0_8-<style>'. Alternatively, directly use the seaborn API instead.\n",
      "  plt.style.use('seaborn-darkgrid')\n",
      "/tmp/ipykernel_3025578/1923906357.py:15: UserWarning: Attempting to set identical low and high ylims makes transformation singular; automatically expanding.\n",
      "  plt.ylim(y_min, y_max)\n"
     ]
    },
    {
     "data": {
      "image/png": "[encoded data removed]",
      "text/plain": [
       "<Figure size 800x600 with 1 Axes>"
      ]
     },
     "metadata": {},
     "output_type": "display_data"
    }
   ],
   "source": [
    "plt.figure(figsize=(8, 6))\n",
    "plt.style.use('seaborn-darkgrid')\n",
    "\n",
    "# Create a bar graph of the AUC values\n",
    "plt.bar(range(len(dimension_sizes)), auc_values, tick_label=dimension_sizes, color='skyblue', edgecolor='black', linewidth=1.2, width=0.6)\n",
    "\n",
    "# Set the xticks and add annotations\n",
    "plt.xticks(range(len(dimension_sizes)), dimension_sizes)\n",
    "for x, y in zip(range(len(dimension_sizes)), auc_values):\n",
    "    plt.annotate(f'{y:.6f}', xy=(x, y), xytext=(0, 5), textcoords='offset points', ha='center', va='bottom')\n",
    "\n",
    "# Set the y-axis limits\n",
    "y_min = min(auc_values) - 0.1 * (max(auc_values) - min(auc_values))\n",
    "y_max = max(auc_values) + 0.1 * (max(auc_values) - min(auc_values))\n",
    "plt.ylim(y_min, y_max)\n",
    "\n",
    "plt.xlabel('Dimension size', fontsize=14)\n",
    "plt.ylabel('AUC', fontsize=14)\n",
    "plt.title('AUC vs. Dimension Size', fontsize=18)\n",
    "plt.show()\n",
    "\n",
    "\n",
    "\n",
    "\n"
   ]
  },
  {
   "cell_type": "code",
   "execution_count": 5,
   "metadata": {},
   "outputs": [
    {
     "name": "stdout",
     "output_type": "stream",
     "text": [
      "+----------------+----------+\n",
      "| Dimension Size |   AUC    |\n",
      "+----------------+----------+\n",
      "|      128       | 0.930816 |\n",
      "+----------------+----------+\n"
     ]
    }
   ],
   "source": [
    "table = PrettyTable()\n",
    "table.field_names = [\"Dimension Size\", \"AUC\"]\n",
    "for dimension_size, auc_value in zip(dimension_sizes, auc_values):\n",
    "    table.add_row([dimension_size, f\"{auc_value:.6f}\"])\n",
    "print(table)\n"
   ]
  }
 ],
 "metadata": {
  "kernelspec": {
   "display_name": "Python 3",
   "language": "python",
   "name": "python3"
  },
  "language_info": {
   "codemirror_mode": {
    "name": "ipython",
    "version": 3
   },
   "file_extension": ".py",
   "mimetype": "text/x-python",
   "name": "python",
   "nbconvert_exporter": "python",
   "pygments_lexer": "ipython3",
   "version": "3.11.4"
  },
  "orig_nbformat": 4
 },
 "nbformat": 4,
 "nbformat_minor": 2
}
